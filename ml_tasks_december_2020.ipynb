{
 "cells": [
  {
   "cell_type": "markdown",
   "metadata": {},
   "source": [
    "# Technical Tasks\n",
    "\n",
    "* The aim of these tasks is to demonstrate a justifiable approach to common ML tasks.\n",
    "* The aim is **not** particularly about code quality. \n",
    "* Only spend a small amount of time summarising work in markdown cells (<20% total time), focus on the data manipulation and model build."
   ]
  },
  {
   "cell_type": "markdown",
   "metadata": {},
   "source": [
    "# 1. Regression: Data preparation and model build\n",
    "This has 2 parts. In the first part you will explore and visualise some data, and in the second part you will apply any learnings from part 1 while implementing a simple modelling pipeline for the same data.\n",
    "\n",
    "After each part we will spend 5-10 minutes discussing your approach."
   ]
  },
  {
   "cell_type": "markdown",
   "metadata": {},
   "source": [
    "## 1.1 Exploration\n",
    "\n",
    "* Explore and plot data\n",
    "    * Establish distributions of variables\n",
    "    * Find any problems in the data to fix (to be fixed in next section)"
   ]
  },
  {
   "cell_type": "code",
   "execution_count": 1,
   "metadata": {},
   "outputs": [],
   "source": [
    "import numpy as np\n",
    "import pandas as pd\n",
    "import matplotlib.pyplot as plt\n",
    "import seaborn as sns\n",
    "\n",
    "from sklearn.linear_model import LinearRegression\n",
    "from sklearn.metrics import mean_absolute_error\n",
    "from sklearn.model_selection import train_test_split"
   ]
  },
  {
   "cell_type": "code",
   "execution_count": null,
   "metadata": {},
   "outputs": [],
   "source": [
    "data = pd.read_csv(\"diabetes.csv\")\n",
    "\n",
    "X, y = data.iloc[:, :-1], data.iloc[:, -1]\n",
    "\n",
    "print(X.head())\n",
    "print(\"\\n\")\n",
    "print(y.head())"
   ]
  },
  {
   "cell_type": "markdown",
   "metadata": {},
   "source": [
    "## 1.2 Write a simple model-building pipeline including the three tasks below:\n",
    "\n",
    "* Clean data\n",
    "    * fix any problems with the data that are necessary to fix before building a model\n",
    "* Normalise data\n",
    "    * normalise the variables for use in a linear regression \n",
    "* Fit and evaluate model\n",
    "    * estimate the generalisation error of your model"
   ]
  },
  {
   "cell_type": "markdown",
   "metadata": {},
   "source": [
    "# 2. General ML\n",
    "To be discussed verbally.\n",
    "\n",
    "### 2.1\n",
    "Highlight an interesting project from your CV and discuss what machine learning approaches worked well and didn't work well on that project.\n",
    "\n",
    "### 2.2\n",
    "In a regression problem with feature vectors $\\mathbf{x_1}, ..., \\mathbf{x_n} \\in {\\rm I\\!R^d}$ and targets $y_1, ..., y_n \\in {\\rm I\\!R}$, how would you adjust the following loss function on parameters $\\mathbf{b} \\in {\\rm I\\!R^d}$ to achieve the sparsest solution?\n",
    "$$\\mathcal{L}(\\mathbf{b}) = \\sum_{i=1}^n (y_i - \\mathbf{x_ib})^2 + \\lambda\\sum_{j=1}^d |b_j|^q$$\n",
    "\n"
   ]
  }
 ],
 "metadata": {
  "kernelspec": {
   "display_name": "Python 3",
   "language": "python",
   "name": "python3"
  },
  "language_info": {
   "codemirror_mode": {
    "name": "ipython",
    "version": 3
   },
   "file_extension": ".py",
   "mimetype": "text/x-python",
   "name": "python",
   "nbconvert_exporter": "python",
   "pygments_lexer": "ipython3",
   "version": "3.8.2"
  }
 },
 "nbformat": 4,
 "nbformat_minor": 2
}
