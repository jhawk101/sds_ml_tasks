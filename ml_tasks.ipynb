{
 "cells": [
  {
   "cell_type": "markdown",
   "metadata": {},
   "source": [
    "# 1. Simple Model Selection\n",
    "## Goals\n",
    "- We want to compare:\n",
    "    - Missing data strategy: mean vs median\n",
    "    - Model: Lasso Vs Ridge\n",
    "- We want to find the model that will have the lowest error in production."
   ]
  },
  {
   "cell_type": "code",
   "execution_count": 24,
   "metadata": {},
   "outputs": [],
   "source": [
    "import sklearn.datasets\n",
    "import numpy as np"
   ]
  },
  {
   "cell_type": "code",
   "execution_count": 92,
   "metadata": {},
   "outputs": [],
   "source": [
    "data, target = sklearn.datasets.load_diabetes(return_X_y=True, as_frame=True)\n",
    "# Fill 5% of data with NaN's\n",
    "data = data * np.random.choice([1, np.nan], size=data.shape, p=[0.95, 0.05])"
   ]
  },
  {
   "cell_type": "markdown",
   "metadata": {},
   "source": [
    "# 2. Classifier Evaluation\n",
    "We have a binary classification task. The ground truth labels are loaded along with predictions from one of our models.\n",
    "\n",
    "Comment on the quality and usefulness of these predictions."
   ]
  },
  {
   "cell_type": "code",
   "execution_count": 169,
   "metadata": {},
   "outputs": [],
   "source": [
    "predictions = np.load(\"classifier_predictions.npy\")\n",
    "targets = np.load(\"classifier_targets.npy\")"
   ]
  }
 ],
 "metadata": {
  "kernelspec": {
   "display_name": "Python 3",
   "language": "python",
   "name": "python3"
  },
  "language_info": {
   "codemirror_mode": {
    "name": "ipython",
    "version": 3
   },
   "file_extension": ".py",
   "mimetype": "text/x-python",
   "name": "python",
   "nbconvert_exporter": "python",
   "pygments_lexer": "ipython3",
   "version": "3.7.2"
  }
 },
 "nbformat": 4,
 "nbformat_minor": 2
}
